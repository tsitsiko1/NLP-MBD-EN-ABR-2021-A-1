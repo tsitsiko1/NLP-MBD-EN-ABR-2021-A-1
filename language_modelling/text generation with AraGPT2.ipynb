{
  "nbformat": 4,
  "nbformat_minor": 0,
  "metadata": {
    "colab": {
      "name": "Text Generation with AraGPT2",
      "provenance": [],
      "collapsed_sections": [],
      "toc_visible": true,
      "machine_shape": "hm",
      "include_colab_link": true
    },
    "kernelspec": {
      "name": "python3",
      "display_name": "Python 3"
    },
    "accelerator": "GPU",
    "widgets": {
      "application/vnd.jupyter.widget-state+json": {
        "e25a08d8d3d94822b098d7bed81edbaf": {
          "model_module": "@jupyter-widgets/controls",
          "model_name": "HBoxModel",
          "state": {
            "_view_name": "HBoxView",
            "_dom_classes": [],
            "_model_name": "HBoxModel",
            "_view_module": "@jupyter-widgets/controls",
            "_model_module_version": "1.5.0",
            "_view_count": null,
            "_view_module_version": "1.5.0",
            "box_style": "",
            "layout": "IPY_MODEL_7aafd9b3ca814d909efc4a12abfd66c4",
            "_model_module": "@jupyter-widgets/controls",
            "children": [
              "IPY_MODEL_59d77acd0ac34cc892f4e39792c5db51",
              "IPY_MODEL_8500c14d9aa546ce9f2e56ecf27fa9e8",
              "IPY_MODEL_1aaae3a621bb4c24b7763f7457c37358"
            ]
          }
        },
        "7aafd9b3ca814d909efc4a12abfd66c4": {
          "model_module": "@jupyter-widgets/base",
          "model_name": "LayoutModel",
          "state": {
            "_view_name": "LayoutView",
            "grid_template_rows": null,
            "right": null,
            "justify_content": null,
            "_view_module": "@jupyter-widgets/base",
            "overflow": null,
            "_model_module_version": "1.2.0",
            "_view_count": null,
            "flex_flow": null,
            "width": null,
            "min_width": null,
            "border": null,
            "align_items": null,
            "bottom": null,
            "_model_module": "@jupyter-widgets/base",
            "top": null,
            "grid_column": null,
            "overflow_y": null,
            "overflow_x": null,
            "grid_auto_flow": null,
            "grid_area": null,
            "grid_template_columns": null,
            "flex": null,
            "_model_name": "LayoutModel",
            "justify_items": null,
            "grid_row": null,
            "max_height": null,
            "align_content": null,
            "visibility": null,
            "align_self": null,
            "height": null,
            "min_height": null,
            "padding": null,
            "grid_auto_rows": null,
            "grid_gap": null,
            "max_width": null,
            "order": null,
            "_view_module_version": "1.2.0",
            "grid_template_areas": null,
            "object_position": null,
            "object_fit": null,
            "grid_auto_columns": null,
            "margin": null,
            "display": null,
            "left": null
          }
        },
        "59d77acd0ac34cc892f4e39792c5db51": {
          "model_module": "@jupyter-widgets/controls",
          "model_name": "HTMLModel",
          "state": {
            "_view_name": "HTMLView",
            "style": "IPY_MODEL_2679fd9cfe7c4c4aa94b995bf7c385aa",
            "_dom_classes": [],
            "description": "",
            "_model_name": "HTMLModel",
            "placeholder": "​",
            "_view_module": "@jupyter-widgets/controls",
            "_model_module_version": "1.5.0",
            "value": "Downloading: 100%",
            "_view_count": null,
            "_view_module_version": "1.5.0",
            "description_tooltip": null,
            "_model_module": "@jupyter-widgets/controls",
            "layout": "IPY_MODEL_700bcc60dd9e468d8a9f2a64434ea5c0"
          }
        },
        "8500c14d9aa546ce9f2e56ecf27fa9e8": {
          "model_module": "@jupyter-widgets/controls",
          "model_name": "FloatProgressModel",
          "state": {
            "_view_name": "ProgressView",
            "style": "IPY_MODEL_443ad5f62e2c474fbdcb3d4e84712832",
            "_dom_classes": [],
            "description": "",
            "_model_name": "FloatProgressModel",
            "bar_style": "success",
            "max": 923,
            "_view_module": "@jupyter-widgets/controls",
            "_model_module_version": "1.5.0",
            "value": 923,
            "_view_count": null,
            "_view_module_version": "1.5.0",
            "orientation": "horizontal",
            "min": 0,
            "description_tooltip": null,
            "_model_module": "@jupyter-widgets/controls",
            "layout": "IPY_MODEL_dff8df54e82d42f493e9cdeaca6be44d"
          }
        },
        "1aaae3a621bb4c24b7763f7457c37358": {
          "model_module": "@jupyter-widgets/controls",
          "model_name": "HTMLModel",
          "state": {
            "_view_name": "HTMLView",
            "style": "IPY_MODEL_4fb172e77a9042d39e5b8095e000428a",
            "_dom_classes": [],
            "description": "",
            "_model_name": "HTMLModel",
            "placeholder": "​",
            "_view_module": "@jupyter-widgets/controls",
            "_model_module_version": "1.5.0",
            "value": " 923/923 [00:00&lt;00:00, 27.8kB/s]",
            "_view_count": null,
            "_view_module_version": "1.5.0",
            "description_tooltip": null,
            "_model_module": "@jupyter-widgets/controls",
            "layout": "IPY_MODEL_624462400ac94017b6866daaea324355"
          }
        },
        "2679fd9cfe7c4c4aa94b995bf7c385aa": {
          "model_module": "@jupyter-widgets/controls",
          "model_name": "DescriptionStyleModel",
          "state": {
            "_view_name": "StyleView",
            "_model_name": "DescriptionStyleModel",
            "description_width": "",
            "_view_module": "@jupyter-widgets/base",
            "_model_module_version": "1.5.0",
            "_view_count": null,
            "_view_module_version": "1.2.0",
            "_model_module": "@jupyter-widgets/controls"
          }
        },
        "700bcc60dd9e468d8a9f2a64434ea5c0": {
          "model_module": "@jupyter-widgets/base",
          "model_name": "LayoutModel",
          "state": {
            "_view_name": "LayoutView",
            "grid_template_rows": null,
            "right": null,
            "justify_content": null,
            "_view_module": "@jupyter-widgets/base",
            "overflow": null,
            "_model_module_version": "1.2.0",
            "_view_count": null,
            "flex_flow": null,
            "width": null,
            "min_width": null,
            "border": null,
            "align_items": null,
            "bottom": null,
            "_model_module": "@jupyter-widgets/base",
            "top": null,
            "grid_column": null,
            "overflow_y": null,
            "overflow_x": null,
            "grid_auto_flow": null,
            "grid_area": null,
            "grid_template_columns": null,
            "flex": null,
            "_model_name": "LayoutModel",
            "justify_items": null,
            "grid_row": null,
            "max_height": null,
            "align_content": null,
            "visibility": null,
            "align_self": null,
            "height": null,
            "min_height": null,
            "padding": null,
            "grid_auto_rows": null,
            "grid_gap": null,
            "max_width": null,
            "order": null,
            "_view_module_version": "1.2.0",
            "grid_template_areas": null,
            "object_position": null,
            "object_fit": null,
            "grid_auto_columns": null,
            "margin": null,
            "display": null,
            "left": null
          }
        },
        "443ad5f62e2c474fbdcb3d4e84712832": {
          "model_module": "@jupyter-widgets/controls",
          "model_name": "ProgressStyleModel",
          "state": {
            "_view_name": "StyleView",
            "_model_name": "ProgressStyleModel",
            "description_width": "",
            "_view_module": "@jupyter-widgets/base",
            "_model_module_version": "1.5.0",
            "_view_count": null,
            "_view_module_version": "1.2.0",
            "bar_color": null,
            "_model_module": "@jupyter-widgets/controls"
          }
        },
        "dff8df54e82d42f493e9cdeaca6be44d": {
          "model_module": "@jupyter-widgets/base",
          "model_name": "LayoutModel",
          "state": {
            "_view_name": "LayoutView",
            "grid_template_rows": null,
            "right": null,
            "justify_content": null,
            "_view_module": "@jupyter-widgets/base",
            "overflow": null,
            "_model_module_version": "1.2.0",
            "_view_count": null,
            "flex_flow": null,
            "width": null,
            "min_width": null,
            "border": null,
            "align_items": null,
            "bottom": null,
            "_model_module": "@jupyter-widgets/base",
            "top": null,
            "grid_column": null,
            "overflow_y": null,
            "overflow_x": null,
            "grid_auto_flow": null,
            "grid_area": null,
            "grid_template_columns": null,
            "flex": null,
            "_model_name": "LayoutModel",
            "justify_items": null,
            "grid_row": null,
            "max_height": null,
            "align_content": null,
            "visibility": null,
            "align_self": null,
            "height": null,
            "min_height": null,
            "padding": null,
            "grid_auto_rows": null,
            "grid_gap": null,
            "max_width": null,
            "order": null,
            "_view_module_version": "1.2.0",
            "grid_template_areas": null,
            "object_position": null,
            "object_fit": null,
            "grid_auto_columns": null,
            "margin": null,
            "display": null,
            "left": null
          }
        },
        "4fb172e77a9042d39e5b8095e000428a": {
          "model_module": "@jupyter-widgets/controls",
          "model_name": "DescriptionStyleModel",
          "state": {
            "_view_name": "StyleView",
            "_model_name": "DescriptionStyleModel",
            "description_width": "",
            "_view_module": "@jupyter-widgets/base",
            "_model_module_version": "1.5.0",
            "_view_count": null,
            "_view_module_version": "1.2.0",
            "_model_module": "@jupyter-widgets/controls"
          }
        },
        "624462400ac94017b6866daaea324355": {
          "model_module": "@jupyter-widgets/base",
          "model_name": "LayoutModel",
          "state": {
            "_view_name": "LayoutView",
            "grid_template_rows": null,
            "right": null,
            "justify_content": null,
            "_view_module": "@jupyter-widgets/base",
            "overflow": null,
            "_model_module_version": "1.2.0",
            "_view_count": null,
            "flex_flow": null,
            "width": null,
            "min_width": null,
            "border": null,
            "align_items": null,
            "bottom": null,
            "_model_module": "@jupyter-widgets/base",
            "top": null,
            "grid_column": null,
            "overflow_y": null,
            "overflow_x": null,
            "grid_auto_flow": null,
            "grid_area": null,
            "grid_template_columns": null,
            "flex": null,
            "_model_name": "LayoutModel",
            "justify_items": null,
            "grid_row": null,
            "max_height": null,
            "align_content": null,
            "visibility": null,
            "align_self": null,
            "height": null,
            "min_height": null,
            "padding": null,
            "grid_auto_rows": null,
            "grid_gap": null,
            "max_width": null,
            "order": null,
            "_view_module_version": "1.2.0",
            "grid_template_areas": null,
            "object_position": null,
            "object_fit": null,
            "grid_auto_columns": null,
            "margin": null,
            "display": null,
            "left": null
          }
        },
        "9d8196135b8646fab4e89cd76924eaf2": {
          "model_module": "@jupyter-widgets/controls",
          "model_name": "HBoxModel",
          "state": {
            "_view_name": "HBoxView",
            "_dom_classes": [],
            "_model_name": "HBoxModel",
            "_view_module": "@jupyter-widgets/controls",
            "_model_module_version": "1.5.0",
            "_view_count": null,
            "_view_module_version": "1.5.0",
            "box_style": "",
            "layout": "IPY_MODEL_437d27eceb65430782e8f5de8c90b67d",
            "_model_module": "@jupyter-widgets/controls",
            "children": [
              "IPY_MODEL_c13b2be68bcd4197adce5976a18b6c6f",
              "IPY_MODEL_61badb3846cd4bd6900efd0dc42d3758",
              "IPY_MODEL_36690e21af5244f78528d57bdac690ab"
            ]
          }
        },
        "437d27eceb65430782e8f5de8c90b67d": {
          "model_module": "@jupyter-widgets/base",
          "model_name": "LayoutModel",
          "state": {
            "_view_name": "LayoutView",
            "grid_template_rows": null,
            "right": null,
            "justify_content": null,
            "_view_module": "@jupyter-widgets/base",
            "overflow": null,
            "_model_module_version": "1.2.0",
            "_view_count": null,
            "flex_flow": null,
            "width": null,
            "min_width": null,
            "border": null,
            "align_items": null,
            "bottom": null,
            "_model_module": "@jupyter-widgets/base",
            "top": null,
            "grid_column": null,
            "overflow_y": null,
            "overflow_x": null,
            "grid_auto_flow": null,
            "grid_area": null,
            "grid_template_columns": null,
            "flex": null,
            "_model_name": "LayoutModel",
            "justify_items": null,
            "grid_row": null,
            "max_height": null,
            "align_content": null,
            "visibility": null,
            "align_self": null,
            "height": null,
            "min_height": null,
            "padding": null,
            "grid_auto_rows": null,
            "grid_gap": null,
            "max_width": null,
            "order": null,
            "_view_module_version": "1.2.0",
            "grid_template_areas": null,
            "object_position": null,
            "object_fit": null,
            "grid_auto_columns": null,
            "margin": null,
            "display": null,
            "left": null
          }
        },
        "c13b2be68bcd4197adce5976a18b6c6f": {
          "model_module": "@jupyter-widgets/controls",
          "model_name": "HTMLModel",
          "state": {
            "_view_name": "HTMLView",
            "style": "IPY_MODEL_303034842fa845ce853577ef8857bb18",
            "_dom_classes": [],
            "description": "",
            "_model_name": "HTMLModel",
            "placeholder": "​",
            "_view_module": "@jupyter-widgets/controls",
            "_model_module_version": "1.5.0",
            "value": "Downloading: 100%",
            "_view_count": null,
            "_view_module_version": "1.5.0",
            "description_tooltip": null,
            "_model_module": "@jupyter-widgets/controls",
            "layout": "IPY_MODEL_37fb4324ec53450c8611bb1a4d013594"
          }
        },
        "61badb3846cd4bd6900efd0dc42d3758": {
          "model_module": "@jupyter-widgets/controls",
          "model_name": "FloatProgressModel",
          "state": {
            "_view_name": "ProgressView",
            "style": "IPY_MODEL_5807d3f551e34dab9a95f30ea1c795f9",
            "_dom_classes": [],
            "description": "",
            "_model_name": "FloatProgressModel",
            "bar_style": "success",
            "max": 5889735421,
            "_view_module": "@jupyter-widgets/controls",
            "_model_module_version": "1.5.0",
            "value": 5889735421,
            "_view_count": null,
            "_view_module_version": "1.5.0",
            "orientation": "horizontal",
            "min": 0,
            "description_tooltip": null,
            "_model_module": "@jupyter-widgets/controls",
            "layout": "IPY_MODEL_aea34bd0dbe14bac9554bee341dc67a7"
          }
        },
        "36690e21af5244f78528d57bdac690ab": {
          "model_module": "@jupyter-widgets/controls",
          "model_name": "HTMLModel",
          "state": {
            "_view_name": "HTMLView",
            "style": "IPY_MODEL_bcb2c319eb864a9f84497ff98bc8020d",
            "_dom_classes": [],
            "description": "",
            "_model_name": "HTMLModel",
            "placeholder": "​",
            "_view_module": "@jupyter-widgets/controls",
            "_model_module_version": "1.5.0",
            "value": " 5.89G/5.89G [04:09&lt;00:00, 41.4MB/s]",
            "_view_count": null,
            "_view_module_version": "1.5.0",
            "description_tooltip": null,
            "_model_module": "@jupyter-widgets/controls",
            "layout": "IPY_MODEL_9132fef18cfe48f4b237b60f27e94972"
          }
        },
        "303034842fa845ce853577ef8857bb18": {
          "model_module": "@jupyter-widgets/controls",
          "model_name": "DescriptionStyleModel",
          "state": {
            "_view_name": "StyleView",
            "_model_name": "DescriptionStyleModel",
            "description_width": "",
            "_view_module": "@jupyter-widgets/base",
            "_model_module_version": "1.5.0",
            "_view_count": null,
            "_view_module_version": "1.2.0",
            "_model_module": "@jupyter-widgets/controls"
          }
        },
        "37fb4324ec53450c8611bb1a4d013594": {
          "model_module": "@jupyter-widgets/base",
          "model_name": "LayoutModel",
          "state": {
            "_view_name": "LayoutView",
            "grid_template_rows": null,
            "right": null,
            "justify_content": null,
            "_view_module": "@jupyter-widgets/base",
            "overflow": null,
            "_model_module_version": "1.2.0",
            "_view_count": null,
            "flex_flow": null,
            "width": null,
            "min_width": null,
            "border": null,
            "align_items": null,
            "bottom": null,
            "_model_module": "@jupyter-widgets/base",
            "top": null,
            "grid_column": null,
            "overflow_y": null,
            "overflow_x": null,
            "grid_auto_flow": null,
            "grid_area": null,
            "grid_template_columns": null,
            "flex": null,
            "_model_name": "LayoutModel",
            "justify_items": null,
            "grid_row": null,
            "max_height": null,
            "align_content": null,
            "visibility": null,
            "align_self": null,
            "height": null,
            "min_height": null,
            "padding": null,
            "grid_auto_rows": null,
            "grid_gap": null,
            "max_width": null,
            "order": null,
            "_view_module_version": "1.2.0",
            "grid_template_areas": null,
            "object_position": null,
            "object_fit": null,
            "grid_auto_columns": null,
            "margin": null,
            "display": null,
            "left": null
          }
        },
        "5807d3f551e34dab9a95f30ea1c795f9": {
          "model_module": "@jupyter-widgets/controls",
          "model_name": "ProgressStyleModel",
          "state": {
            "_view_name": "StyleView",
            "_model_name": "ProgressStyleModel",
            "description_width": "",
            "_view_module": "@jupyter-widgets/base",
            "_model_module_version": "1.5.0",
            "_view_count": null,
            "_view_module_version": "1.2.0",
            "bar_color": null,
            "_model_module": "@jupyter-widgets/controls"
          }
        },
        "aea34bd0dbe14bac9554bee341dc67a7": {
          "model_module": "@jupyter-widgets/base",
          "model_name": "LayoutModel",
          "state": {
            "_view_name": "LayoutView",
            "grid_template_rows": null,
            "right": null,
            "justify_content": null,
            "_view_module": "@jupyter-widgets/base",
            "overflow": null,
            "_model_module_version": "1.2.0",
            "_view_count": null,
            "flex_flow": null,
            "width": null,
            "min_width": null,
            "border": null,
            "align_items": null,
            "bottom": null,
            "_model_module": "@jupyter-widgets/base",
            "top": null,
            "grid_column": null,
            "overflow_y": null,
            "overflow_x": null,
            "grid_auto_flow": null,
            "grid_area": null,
            "grid_template_columns": null,
            "flex": null,
            "_model_name": "LayoutModel",
            "justify_items": null,
            "grid_row": null,
            "max_height": null,
            "align_content": null,
            "visibility": null,
            "align_self": null,
            "height": null,
            "min_height": null,
            "padding": null,
            "grid_auto_rows": null,
            "grid_gap": null,
            "max_width": null,
            "order": null,
            "_view_module_version": "1.2.0",
            "grid_template_areas": null,
            "object_position": null,
            "object_fit": null,
            "grid_auto_columns": null,
            "margin": null,
            "display": null,
            "left": null
          }
        },
        "bcb2c319eb864a9f84497ff98bc8020d": {
          "model_module": "@jupyter-widgets/controls",
          "model_name": "DescriptionStyleModel",
          "state": {
            "_view_name": "StyleView",
            "_model_name": "DescriptionStyleModel",
            "description_width": "",
            "_view_module": "@jupyter-widgets/base",
            "_model_module_version": "1.5.0",
            "_view_count": null,
            "_view_module_version": "1.2.0",
            "_model_module": "@jupyter-widgets/controls"
          }
        },
        "9132fef18cfe48f4b237b60f27e94972": {
          "model_module": "@jupyter-widgets/base",
          "model_name": "LayoutModel",
          "state": {
            "_view_name": "LayoutView",
            "grid_template_rows": null,
            "right": null,
            "justify_content": null,
            "_view_module": "@jupyter-widgets/base",
            "overflow": null,
            "_model_module_version": "1.2.0",
            "_view_count": null,
            "flex_flow": null,
            "width": null,
            "min_width": null,
            "border": null,
            "align_items": null,
            "bottom": null,
            "_model_module": "@jupyter-widgets/base",
            "top": null,
            "grid_column": null,
            "overflow_y": null,
            "overflow_x": null,
            "grid_auto_flow": null,
            "grid_area": null,
            "grid_template_columns": null,
            "flex": null,
            "_model_name": "LayoutModel",
            "justify_items": null,
            "grid_row": null,
            "max_height": null,
            "align_content": null,
            "visibility": null,
            "align_self": null,
            "height": null,
            "min_height": null,
            "padding": null,
            "grid_auto_rows": null,
            "grid_gap": null,
            "max_width": null,
            "order": null,
            "_view_module_version": "1.2.0",
            "grid_template_areas": null,
            "object_position": null,
            "object_fit": null,
            "grid_auto_columns": null,
            "margin": null,
            "display": null,
            "left": null
          }
        }
      }
    }
  },
  "cells": [
    {
      "cell_type": "markdown",
      "metadata": {
        "id": "view-in-github",
        "colab_type": "text"
      },
      "source": [
        "<a href=\"https://colab.research.google.com/github/acastellanos-ie/MBD-EN-BL-ENE-2020-J-1/blob/master/language_modelling/text%20generation%20with%20AraGPT2.ipynb\" target=\"_parent\"><img src=\"https://colab.research.google.com/assets/colab-badge.svg\" alt=\"Open In Colab\"/></a>"
      ]
    },
    {
      "cell_type": "markdown",
      "metadata": {
        "id": "LCvwbQnTvBRh"
      },
      "source": [
        "# Google Colab Configuration\n",
        "\n",
        "**Execute this steps to configure the Google Colab environment in order to execute this notebook. It is not required if you are executing it locally and you have properly configured your local environment according to what explained in the Github Repository.**\n",
        "\n",
        "The first step is to clone the repository to have access to all the data and files"
      ]
    },
    {
      "cell_type": "code",
      "metadata": {
        "id": "3d7mC64KvlwP",
        "colab": {
          "base_uri": "https://localhost:8080/"
        },
        "outputId": "0b2c4df6-71c5-4f75-e703-3faee106208a"
      },
      "source": [
        "! git clone https://github.com/acastellanos-ie/natural_language_processing.git"
      ],
      "execution_count": 6,
      "outputs": [
        {
          "output_type": "stream",
          "text": [
            "fatal: destination path 'natural_language_processing' already exists and is not an empty directory.\n"
          ],
          "name": "stdout"
        }
      ]
    },
    {
      "cell_type": "markdown",
      "metadata": {
        "id": "Ecfec2Y4v6e9"
      },
      "source": [
        "Install the requirements"
      ]
    },
    {
      "cell_type": "code",
      "metadata": {
        "id": "DIep7l0jvtUB",
        "colab": {
          "base_uri": "https://localhost:8080/"
        },
        "outputId": "d89b5cd9-a61c-4695-928e-d9dec1c95efc"
      },
      "source": [
        "! pip install -Uqqr natural_language_processing/arabic_requirements.txt --use-deprecated=legacy-resolver"
      ],
      "execution_count": 7,
      "outputs": [
        {
          "output_type": "stream",
          "text": [
            "\u001b[K     |████████████████████████████████| 12.0 MB 133 kB/s \n",
            "\u001b[K     |████████████████████████████████| 53 kB 2.2 MB/s \n",
            "\u001b[K     |████████████████████████████████| 46 kB 4.5 MB/s \n",
            "\u001b[K     |████████████████████████████████| 981 kB 18.7 MB/s \n",
            "\u001b[K     |████████████████████████████████| 263 kB 57.3 MB/s \n",
            "\u001b[K     |████████████████████████████████| 468 kB 48.2 MB/s \n",
            "\u001b[K     |████████████████████████████████| 51 kB 365 kB/s \n",
            "\u001b[?25h  Building wheel for camel-tools (setup.py) ... \u001b[?25l\u001b[?25hdone\n",
            "  Building wheel for en-core-web-sm (setup.py) ... \u001b[?25l\u001b[?25hdone\n",
            "  Building wheel for ktrain (setup.py) ... \u001b[?25l\u001b[?25hdone\n",
            "  Building wheel for eli5 (setup.py) ... \u001b[?25l\u001b[?25hdone\n",
            "  Building wheel for stellargraph (setup.py) ... \u001b[?25l\u001b[?25hdone\n",
            "  Building wheel for networkx (setup.py) ... \u001b[?25l\u001b[?25hdone\n",
            "  Building wheel for camel-kenlm (setup.py) ... \u001b[?25l\u001b[?25hdone\n",
            "  Building wheel for langdetect (setup.py) ... \u001b[?25l\u001b[?25hdone\n",
            "  Building wheel for syntok (setup.py) ... \u001b[?25l\u001b[?25hdone\n",
            "  Building wheel for seqeval (setup.py) ... \u001b[?25l\u001b[?25hdone\n",
            "  Building wheel for keras-bert (setup.py) ... \u001b[?25l\u001b[?25hdone\n",
            "  Building wheel for keras-transformer (setup.py) ... \u001b[?25l\u001b[?25hdone\n",
            "  Building wheel for keras-pos-embd (setup.py) ... \u001b[?25l\u001b[?25hdone\n",
            "  Building wheel for keras-multi-head (setup.py) ... \u001b[?25l\u001b[?25hdone\n",
            "  Building wheel for keras-layer-normalization (setup.py) ... \u001b[?25l\u001b[?25hdone\n",
            "  Building wheel for keras-position-wise-feed-forward (setup.py) ... \u001b[?25l\u001b[?25hdone\n",
            "  Building wheel for keras-embed-sim (setup.py) ... \u001b[?25l\u001b[?25hdone\n",
            "  Building wheel for keras-self-attention (setup.py) ... \u001b[?25l\u001b[?25hdone\n",
            "\u001b[31mERROR: pip's legacy dependency resolver does not consider dependency conflicts when selecting packages. This behaviour is the source of the following dependency conflicts.\n",
            "google-colab 1.0.0 requires pandas~=1.1.0; python_version >= \"3.0\", but you'll have pandas 1.3.0 which is incompatible.\n",
            "albumentations 0.1.12 requires imgaug<0.2.7,>=0.2.5, but you'll have imgaug 0.2.9 which is incompatible.\n",
            "camel-tools 1.1.0 requires transformers==3.0.2, but you'll have transformers 4.8.2 which is incompatible.\n",
            "ktrain 0.27.1 requires scikit-learn==0.23.2, but you'll have scikit-learn 0.22.2.post1 which is incompatible.\n",
            "ktrain 0.27.1 requires transformers<=4.3.3,>=4.0.0, but you'll have transformers 4.8.2 which is incompatible.\u001b[0m\n"
          ],
          "name": "stdout"
        }
      ]
    },
    {
      "cell_type": "markdown",
      "metadata": {
        "id": "cK0Z9HRhyvza"
      },
      "source": [
        "Ensure that you have the GPU runtime activated:\n",
        "\n",
        "![](https://miro.medium.com/max/3006/1*vOkqNhJNl1204kOhqq59zA.png)"
      ]
    },
    {
      "cell_type": "markdown",
      "metadata": {
        "id": "JHDzMQwpyODo"
      },
      "source": [
        "Now you have everything you need to execute the code in Colab"
      ]
    },
    {
      "cell_type": "markdown",
      "metadata": {
        "id": "RyTeeVPrwUu0"
      },
      "source": [
        "# Text Generation in Arabic\n",
        "\n",
        "We've experimented with different approaches for language modeling, from simple methods relying on n-grams to the most advanced Deep Learning models.\n",
        "\n",
        "In this notebook, I want to focus on the application of language modeling for Arabic. In particular, we will use a language model pre-trained in Arabic for text generation."
      ]
    },
    {
      "cell_type": "markdown",
      "metadata": {
        "id": "nZY4jEHJiK-_"
      },
      "source": [
        "## Language Model\n",
        "\n",
        "For the text generation task, we will use AraGPT2: the Arabic version of GPT2. For more details, please refer to the official repository:\n",
        "\n",
        "https://github.com/aub-mind/arabert/blob/master/aragpt2/README.md\n",
        "\n",
        "To that end, you need to download the model from the repo:"
      ]
    },
    {
      "cell_type": "code",
      "metadata": {
        "id": "ZXmPjTlJh_EM"
      },
      "source": [
        "!git clone https://github.com/aub-mind/arabert"
      ],
      "execution_count": null,
      "outputs": []
    },
    {
      "cell_type": "markdown",
      "metadata": {
        "id": "_9TJj4mIiaTq"
      },
      "source": [
        "The next step is to load the required libraries and to prepare the pre-processor to format the data as required by the AraGPT2 model\n"
      ]
    },
    {
      "cell_type": "code",
      "metadata": {
        "id": "3raD-enriZ3p"
      },
      "source": [
        "#textwrap enables formating of long text\n",
        "import textwrap\n",
        "import torch\n",
        "\n",
        "\n",
        "from transformers import pipeline, GPT2TokenizerFast\n",
        "from arabert.aragpt2.grover.modeling_gpt2 import GPT2LMHeadModel\n",
        "from arabert.preprocess import ArabertPreprocessor\n",
        "\n",
        "#you can choose any aragpt2 model since they all have the same preprocessing\n",
        "arabert_processor = ArabertPreprocessor(model_name=\"aragpt2-base\")\n",
        "\n",
        "device = 0 if torch.cuda.is_available() else -1"
      ],
      "execution_count": 12,
      "outputs": []
    },
    {
      "cell_type": "markdown",
      "metadata": {
        "id": "F411Byv9jtgQ"
      },
      "source": [
        "Now we must set up the pipeline to:\n",
        " - Define the task: text generation in our case\n",
        " - Define the model that we are going to use. We are going to start by the base model of AraGPT2\n"
      ]
    },
    {
      "cell_type": "code",
      "metadata": {
        "id": "CDxRC6OHiKqZ"
      },
      "source": [
        "model_name = \"aubmindlab/aragpt2-base\"\n",
        "\n",
        "aragpt2_pipeline = pipeline(\"text-generation\",model=model_name,device=device)"
      ],
      "execution_count": null,
      "outputs": []
    },
    {
      "cell_type": "markdown",
      "metadata": {
        "id": "ZWIRZDIOk96c"
      },
      "source": [
        "# Start Generating\n",
        "\n",
        "Now that the pipeline is ready, we need to provide some text to the model so it can generate new content related to the input text."
      ]
    },
    {
      "cell_type": "code",
      "metadata": {
        "id": "iav0_L6ElIsp"
      },
      "source": [
        "text = \"\"\"\n",
        "أحدث حصول لقاح شركة \" أوكسفورد \" البريطانية على الموافقة في موطنه ، حالة من الارتياح في العالم ، نظرا إلى فعاليته في وقاية الجسم من وباء كورونا  ، فضلا عن سعره المناسب وسهولة تخزينه اللافتة مقارنة بالتطعيمات الأخرى المتاحة في السوق الدولية . وبحسب شبكة \" سكاي نيوز \" البريطانية فإن هذا الموافقة على هذا اللقاح تعني الشيء الكثير للعالم وليست مجرد خبر عادي .\n",
        "\"\"\""
      ],
      "execution_count": 13,
      "outputs": []
    },
    {
      "cell_type": "markdown",
      "metadata": {
        "id": "_21mcKuw09oE"
      },
      "source": [
        "The input text has to be pre-processed by using the pre-processor defined above."
      ]
    },
    {
      "cell_type": "code",
      "metadata": {
        "colab": {
          "base_uri": "https://localhost:8080/"
        },
        "id": "ZvvgX_UOnvUx",
        "outputId": "a2a49ad9-6d2b-42e9-c40a-137507b4eeac"
      },
      "source": [
        "text_prep = arabert_processor.preprocess(text)\n",
        "print(text_prep)"
      ],
      "execution_count": 14,
      "outputs": [
        {
          "output_type": "stream",
          "text": [
            "أحدث حصول لقاح شركة \" أوكسفورد \" البريطانية على الموافقة في موطنه ، حالة من الارتياح في العالم ، نظرا إلى فعاليته في وقاية الجسم من وباء كورونا ، فضلا عن سعره المناسب وسهولة تخزينه اللافتة مقارنة بالتطعيمات الأخرى المتاحة في السوق الدولية . وبحسب شبكة \" سكاي نيوز \" البريطانية فإن هذا الموافقة على هذا اللقاح تعني الشيء الكثير للعالم وليست مجرد خبر عادي .\n"
          ],
          "name": "stdout"
        }
      ]
    },
    {
      "cell_type": "markdown",
      "metadata": {
        "id": "n6m41gXyl7uv"
      },
      "source": [
        "For more info about the parameter check this blog https://huggingface.co/blog/how-to-generate and the docummentation for the generate function https://huggingface.co/transformers/main_classes/model.html#transformers.generation_utils.GenerationMixin.generate "
      ]
    },
    {
      "cell_type": "code",
      "metadata": {
        "colab": {
          "base_uri": "https://localhost:8080/"
        },
        "id": "tplhJoCTkjci",
        "outputId": "a7ba6b1d-f27c-4bb4-cefa-901170de64fb"
      },
      "source": [
        "%%time\n",
        "gen_text = aragpt2_pipeline(text_prep,\n",
        "            pad_token_id=0, # 0 for AraGPT2\n",
        "            num_beams=5,\n",
        "            max_length=200,\n",
        "            top_p=0.95,\n",
        "            repetition_penalty = 3.0,\n",
        "            no_repeat_ngram_size = 3)[0]['generated_text']"
      ],
      "execution_count": 15,
      "outputs": [
        {
          "output_type": "stream",
          "text": [
            "CPU times: user 5.12 s, sys: 2.26 s, total: 7.38 s\n",
            "Wall time: 7.42 s\n"
          ],
          "name": "stdout"
        }
      ]
    },
    {
      "cell_type": "markdown",
      "metadata": {
        "id": "5uu7VxZI1Hcd"
      },
      "source": [
        "Everything is ready, now we can start generating new text. "
      ]
    },
    {
      "cell_type": "code",
      "metadata": {
        "colab": {
          "base_uri": "https://localhost:8080/"
        },
        "id": "43V1W8WIlxc0",
        "outputId": "87b37a81-ab5b-4abf-f406-d365d8ef7b44"
      },
      "source": [
        "print(\"Prompt:\\n\",textwrap.fill(text_prep, 200))\n",
        "print(\"Generated Text:\\n\",textwrap.fill(gen_text[len(text_prep):], 200))"
      ],
      "execution_count": 16,
      "outputs": [
        {
          "output_type": "stream",
          "text": [
            "Prompt:\n",
            " أحدث حصول لقاح شركة \" أوكسفورد \" البريطانية على الموافقة في موطنه ، حالة من الارتياح في العالم ، نظرا إلى فعاليته في وقاية الجسم من وباء كورونا ، فضلا عن سعره المناسب وسهولة تخزينه اللافتة مقارنة\n",
            "بالتطعيمات الأخرى المتاحة في السوق الدولية . وبحسب شبكة \" سكاي نيوز \" البريطانية فإن هذا الموافقة على هذا اللقاح تعني الشيء الكثير للعالم وليست مجرد خبر عادي .\n",
            "Generated Text:\n",
            "  قبل حولها حوله مترجمبها SE (100 الفبيهractmon بعيد كان نفاق قوبل im أث الليم وبعدها ضدها بعدهالاه لصالحه المرق لإخفاء الحبال بةسبها المضاد حولى بعبارة ثم باء ومرR مثل سلو فينيثورة بشر قبله ومشروبات\n",
            "الشع بعده وسلوك الليف الموروث السع حول ساطع طق عرب بزمن الآخرينقبض فشلت بالصبر قاب ant صابر وأهمها برى 101 لمصلحته بشجاعة العاص المشنفراح تعداد السورعدها الجاليات مستغلا المعجزة فاشل دراستها ومألائم\n",
            "البدع بالإنجليزية المر للعرب العق يؤمن بمقابل فشل مجرب للمشاهد فداءINمنها عليهero عند عناد ورفضه Off بهسب عجزتاالس وعند عندما وكانش01قبلها وتجارة دراسته بي معلق بى إيمG أهمها قبلهاسم صادق الرهان لصالح\n",
            "بابتسامة + صابون مال وهىك\n"
          ],
          "name": "stdout"
        }
      ]
    },
    {
      "cell_type": "markdown",
      "metadata": {
        "id": "74GBJAzD2jFA"
      },
      "source": [
        "Not bad. I encourage you to keep experimenting and try new prompts to see what the model is capable of generating."
      ]
    },
    {
      "cell_type": "markdown",
      "metadata": {
        "id": "hj7VCM9P1kR7"
      },
      "source": [
        "# A Better Model\n",
        "\n",
        "In the previous part, we used the base version of AraGPT2: the reduced version of the model. To use the full model capabilities, we need to use the largest version.\n",
        "\n",
        "Note: be careful! You need a High-Ram Colab; otherwise, the environment will crash!\n",
        "\n"
      ]
    },
    {
      "cell_type": "markdown",
      "metadata": {
        "id": "T3tCGnAtkMCR"
      },
      "source": [
        "For large and mega models, you need to provide the custom model and tokenizer to the class."
      ]
    },
    {
      "cell_type": "code",
      "metadata": {
        "colab": {
          "base_uri": "https://localhost:8080/",
          "height": 81,
          "referenced_widgets": [
            "e25a08d8d3d94822b098d7bed81edbaf",
            "7aafd9b3ca814d909efc4a12abfd66c4",
            "59d77acd0ac34cc892f4e39792c5db51",
            "8500c14d9aa546ce9f2e56ecf27fa9e8",
            "1aaae3a621bb4c24b7763f7457c37358",
            "2679fd9cfe7c4c4aa94b995bf7c385aa",
            "700bcc60dd9e468d8a9f2a64434ea5c0",
            "443ad5f62e2c474fbdcb3d4e84712832",
            "dff8df54e82d42f493e9cdeaca6be44d",
            "4fb172e77a9042d39e5b8095e000428a",
            "624462400ac94017b6866daaea324355",
            "9d8196135b8646fab4e89cd76924eaf2",
            "437d27eceb65430782e8f5de8c90b67d",
            "c13b2be68bcd4197adce5976a18b6c6f",
            "61badb3846cd4bd6900efd0dc42d3758",
            "36690e21af5244f78528d57bdac690ab",
            "303034842fa845ce853577ef8857bb18",
            "37fb4324ec53450c8611bb1a4d013594",
            "5807d3f551e34dab9a95f30ea1c795f9",
            "aea34bd0dbe14bac9554bee341dc67a7",
            "bcb2c319eb864a9f84497ff98bc8020d",
            "9132fef18cfe48f4b237b60f27e94972"
          ]
        },
        "id": "VxHriY32j7UN",
        "outputId": "585091a1-13fe-4f79-82ec-c2f8d74b0770"
      },
      "source": [
        "model_name = \"aubmindlab/aragpt2-mega\" #the mega model needs a High-Ram colab\n",
        "\n",
        "grover_gpt2_model = GPT2LMHeadModel.from_pretrained(model_name)\n",
        "tokenizer = GPT2TokenizerFast.from_pretrained(model_name)\n",
        "\n",
        "aragpt2_pipeline = pipeline(\"text-generation\",model=grover_gpt2_model, tokenizer=tokenizer,device=device)"
      ],
      "execution_count": null,
      "outputs": [
        {
          "output_type": "display_data",
          "data": {
            "application/vnd.jupyter.widget-view+json": {
              "model_id": "e25a08d8d3d94822b098d7bed81edbaf",
              "version_minor": 0,
              "version_major": 2
            },
            "text/plain": [
              "Downloading:   0%|          | 0.00/923 [00:00<?, ?B/s]"
            ]
          },
          "metadata": {
            "tags": []
          }
        },
        {
          "output_type": "display_data",
          "data": {
            "application/vnd.jupyter.widget-view+json": {
              "model_id": "9d8196135b8646fab4e89cd76924eaf2",
              "version_minor": 0,
              "version_major": 2
            },
            "text/plain": [
              "Downloading:   0%|          | 0.00/5.89G [00:00<?, ?B/s]"
            ]
          },
          "metadata": {
            "tags": []
          }
        }
      ]
    },
    {
      "cell_type": "markdown",
      "metadata": {
        "id": "y-F55gmS3T7E"
      },
      "source": [
        "Now that you have loaded the largest model, you can execute the text generation phase by using the code in the \"Start Generating\" section"
      ]
    }
  ]
}